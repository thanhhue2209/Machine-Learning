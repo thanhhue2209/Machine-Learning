{
  "nbformat": 4,
  "nbformat_minor": 0,
  "metadata": {
    "colab": {
      "name": "Homework 3.ipynb",
      "provenance": [],
      "collapsed_sections": []
    },
    "kernelspec": {
      "name": "python3",
      "display_name": "Python 3"
    },
    "language_info": {
      "name": "python"
    }
  },
  "cells": [
    {
      "cell_type": "markdown",
      "metadata": {
        "id": "jxLT_cfYnu3h"
      },
      "source": [
        "**Exercise 2:** Viết code numpy, tìm model linear regression cho bai toán dữ đoán giá nhà, dataset:\n",
        "\n",
        "a. Vẽ model dự đoán (đường thẳng) và dữ liệu (point - scatter).\n",
        "\n",
        "b. Dự đoán giá các căn nhà có diện tích 50, 100, 150.\n",
        "\n"
      ]
    },
    {
      "cell_type": "code",
      "metadata": {
        "id": "MCF6fIyunsGV"
      },
      "source": [
        "import pandas as pd\n",
        "import numpy as np\n",
        "import matplotlib.pyplot as plt\n",
        "import seaborn as sns"
      ],
      "execution_count": 1,
      "outputs": []
    },
    {
      "cell_type": "code",
      "metadata": {
        "colab": {
          "base_uri": "https://localhost:8080/",
          "height": 204
        },
        "id": "KL__61tfn6E3",
        "outputId": "6bcd3807-7b11-40ea-d6e6-2e31f7edbbc4"
      },
      "source": [
        "data = pd.read_csv('https://raw.githubusercontent.com/nttuan8/DL_Tutorial/master/L1/data_linear.csv')\n",
        "data.head(5)"
      ],
      "execution_count": 2,
      "outputs": [
        {
          "output_type": "execute_result",
          "data": {
            "text/html": [
              "<div>\n",
              "<style scoped>\n",
              "    .dataframe tbody tr th:only-of-type {\n",
              "        vertical-align: middle;\n",
              "    }\n",
              "\n",
              "    .dataframe tbody tr th {\n",
              "        vertical-align: top;\n",
              "    }\n",
              "\n",
              "    .dataframe thead th {\n",
              "        text-align: right;\n",
              "    }\n",
              "</style>\n",
              "<table border=\"1\" class=\"dataframe\">\n",
              "  <thead>\n",
              "    <tr style=\"text-align: right;\">\n",
              "      <th></th>\n",
              "      <th>Diện tích</th>\n",
              "      <th>Giá</th>\n",
              "    </tr>\n",
              "  </thead>\n",
              "  <tbody>\n",
              "    <tr>\n",
              "      <th>0</th>\n",
              "      <td>30.0000</td>\n",
              "      <td>448.524</td>\n",
              "    </tr>\n",
              "    <tr>\n",
              "      <th>1</th>\n",
              "      <td>32.4138</td>\n",
              "      <td>509.248</td>\n",
              "    </tr>\n",
              "    <tr>\n",
              "      <th>2</th>\n",
              "      <td>34.8276</td>\n",
              "      <td>535.104</td>\n",
              "    </tr>\n",
              "    <tr>\n",
              "      <th>3</th>\n",
              "      <td>37.2414</td>\n",
              "      <td>551.432</td>\n",
              "    </tr>\n",
              "    <tr>\n",
              "      <th>4</th>\n",
              "      <td>39.6552</td>\n",
              "      <td>623.418</td>\n",
              "    </tr>\n",
              "  </tbody>\n",
              "</table>\n",
              "</div>"
            ],
            "text/plain": [
              "   Diện tích      Giá\n",
              "0    30.0000  448.524\n",
              "1    32.4138  509.248\n",
              "2    34.8276  535.104\n",
              "3    37.2414  551.432\n",
              "4    39.6552  623.418"
            ]
          },
          "metadata": {},
          "execution_count": 2
        }
      ]
    },
    {
      "cell_type": "code",
      "metadata": {
        "colab": {
          "base_uri": "https://localhost:8080/",
          "height": 297
        },
        "id": "DBB0UWtbox3J",
        "outputId": "e83d0bbb-eac2-43f1-c151-0af81e1938d1"
      },
      "source": [
        "x = data['Diện tích']\n",
        "y = data['Giá']\n",
        "plt.xlabel('Diện tích')\n",
        "plt.ylabel('Giá')\n",
        "plt.scatter(x,y)"
      ],
      "execution_count": 4,
      "outputs": [
        {
          "output_type": "execute_result",
          "data": {
            "text/plain": [
              "<matplotlib.collections.PathCollection at 0x7fa0c9839550>"
            ]
          },
          "metadata": {},
          "execution_count": 4
        },
        {
          "output_type": "display_data",
          "data": {
            "image/png": "[encoded data removed]",
            "text/plain": [
              "<Figure size 432x288 with 1 Axes>"
            ]
          },
          "metadata": {
            "needs_background": "light"
          }
        }
      ]
    },
    {
      "cell_type": "code",
      "metadata": {
        "colab": {
          "base_uri": "https://localhost:8080/"
        },
        "id": "bAZuaxOepgqG",
        "outputId": "61b67f57-bd59-4112-e09d-4dd566eb213f"
      },
      "source": [
        "model = np.polyfit(x, y, 1)\n",
        "model"
      ],
      "execution_count": 5,
      "outputs": [
        {
          "output_type": "execute_result",
          "data": {
            "text/plain": [
              "array([15.2110908 , -7.06426865])"
            ]
          },
          "metadata": {},
          "execution_count": 5
        }
      ]
    },
    {
      "cell_type": "markdown",
      "metadata": {
        "id": "pvub2mEuqoS_"
      },
      "source": [
        "=> y = 15.2110908 * x - 7.06426865"
      ]
    },
    {
      "cell_type": "code",
      "metadata": {
        "id": "SN5YHEeFqyyO"
      },
      "source": [
        "predict = np.poly1d(model)"
      ],
      "execution_count": 6,
      "outputs": []
    },
    {
      "cell_type": "code",
      "metadata": {
        "colab": {
          "base_uri": "https://localhost:8080/",
          "height": 282
        },
        "id": "gp05s-yErEMz",
        "outputId": "864b48c0-a954-43b0-f6dd-44e134f978ad"
      },
      "source": [
        "X = range(20, 100)\n",
        "Y = predict(X)\n",
        "plt.scatter(x, y)\n",
        "plt.plot(X, Y, c = 'r')"
      ],
      "execution_count": 8,
      "outputs": [
        {
          "output_type": "execute_result",
          "data": {
            "text/plain": [
              "[<matplotlib.lines.Line2D at 0x7fa0c974a1d0>]"
            ]
          },
          "metadata": {},
          "execution_count": 8
        },
        {
          "output_type": "display_data",
          "data": {
            "image/png": "[encoded data removed]",
            "text/plain": [
              "<Figure size 432x288 with 1 Axes>"
            ]
          },
          "metadata": {
            "needs_background": "light"
          }
        }
      ]
    },
    {
      "cell_type": "code",
      "metadata": {
        "colab": {
          "base_uri": "https://localhost:8080/"
        },
        "id": "-hG9HxOcrX66",
        "outputId": "1f8b1c97-2047-4601-877d-f05e942c5b54"
      },
      "source": [
        "S = 50\n",
        "print(\"Nhà iện tích\",S, \"có giá\", predict(S))"
      ],
      "execution_count": 23,
      "outputs": [
        {
          "output_type": "stream",
          "name": "stdout",
          "text": [
            "Nhà iện tích 50 có giá 753.4902713382766\n"
          ]
        }
      ]
    },
    {
      "cell_type": "code",
      "metadata": {
        "colab": {
          "base_uri": "https://localhost:8080/"
        },
        "id": "rsswfbu1r9E5",
        "outputId": "d2efb2ff-ccc7-4a03-a655-3ce74d523f61"
      },
      "source": [
        "S = 100\n",
        "print(\"Nhà iện tích\",S, \"có giá\", predict(S))"
      ],
      "execution_count": 24,
      "outputs": [
        {
          "output_type": "stream",
          "name": "stdout",
          "text": [
            "Nhà iện tích 100 có giá 1514.0448113217983\n"
          ]
        }
      ]
    },
    {
      "cell_type": "code",
      "metadata": {
        "colab": {
          "base_uri": "https://localhost:8080/"
        },
        "id": "5vqjimAZtMS-",
        "outputId": "4518b0bd-6c00-41af-9188-ef10bf9afa16"
      },
      "source": [
        "S = 150\n",
        "print(\"Nhà iện tích\",S, \"có giá\", predict(S))"
      ],
      "execution_count": 25,
      "outputs": [
        {
          "output_type": "stream",
          "name": "stdout",
          "text": [
            "Nhà iện tích 150 có giá 2274.5993513053195\n"
          ]
        }
      ]
    },
    {
      "cell_type": "markdown",
      "metadata": {
        "id": "jVB-GTkutTVO"
      },
      "source": [
        "**Exercise 3:** Viết code numpy, tìm model linear regression cho bai toán dữ đoán giá nhà, dataset: https://www.kaggle.com/prasadperera/the-boston-housing-dataset"
      ]
    }
  ]
}